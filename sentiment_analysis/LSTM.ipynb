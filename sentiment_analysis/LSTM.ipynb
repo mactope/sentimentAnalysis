{
  "cells": [
    {
      "cell_type": "code",
      "execution_count": null,
      "metadata": {
        "id": "bg7RlreUHJlq"
      },
      "outputs": [],
      "source": [
        "\n",
        "# import necessary libraries\n",
        "\n",
        "import os\n",
        "import numpy as np\n",
        "import pandas as pd\n",
        "from  keras_preprocessing.text import Tokenizer\n",
        "from  keras_preprocessing.sequence import pad_sequences\n",
        "from  keras.models import Sequential, load_model\n",
        "from  keras.layers import Dense, Embedding, LSTM, Bidirectional,Flatten, Dropout\n",
        "from sklearn.model_selection import train_test_split\n",
        "import re\n",
        "import pickle"
      ]
    },
    {
      "cell_type": "code",
      "execution_count": null,
      "metadata": {
        "id": "Xg3aE6bbHQTz"
      },
      "outputs": [],
      "source": [
        "path = \"/content/drive/MyDrive/IMDB Dataset.csv\"\n"
      ]
    },
    {
      "cell_type": "code",
      "execution_count": null,
      "metadata": {
        "id": "IDQFvdSwHtqv"
      },
      "outputs": [],
      "source": [
        "df = pd.read_csv(path)"
      ]
    },
    {
      "cell_type": "code",
      "execution_count": null,
      "metadata": {
        "id": "ewgoyVFoHyfh"
      },
      "outputs": [],
      "source": [
        "check_null = df.isnull().sum()"
      ]
    },
    {
      "cell_type": "code",
      "execution_count": null,
      "metadata": {
        "colab": {
          "base_uri": "https://localhost:8080/"
        },
        "id": "9696dMU7H2VT",
        "outputId": "bbe0443c-ea3f-4e00-a19e-9f7f0b6a7e50"
      },
      "outputs": [
        {
          "data": {
            "text/plain": [
              "review       0\n",
              "sentiment    0\n",
              "dtype: int64"
            ]
          },
          "execution_count": 23,
          "metadata": {},
          "output_type": "execute_result"
        }
      ],
      "source": [
        "check_null"
      ]
    },
    {
      "cell_type": "code",
      "execution_count": null,
      "metadata": {
        "colab": {
          "base_uri": "https://localhost:8080/"
        },
        "id": "UPGA_GkpH39N",
        "outputId": "9f57f84c-6bdd-415c-e097-adebeb3eeebb"
      },
      "outputs": [
        {
          "data": {
            "text/plain": [
              "count                                                 50000\n",
              "unique                                                49582\n",
              "top       Loved today's show!!! It was a variety and not...\n",
              "freq                                                      5\n",
              "Name: review, dtype: object"
            ]
          },
          "execution_count": 24,
          "metadata": {},
          "output_type": "execute_result"
        }
      ],
      "source": [
        "df[\"review\"].describe()"
      ]
    },
    {
      "cell_type": "code",
      "execution_count": null,
      "metadata": {
        "colab": {
          "base_uri": "https://localhost:8080/"
        },
        "id": "5fIH7foYH6gA",
        "outputId": "3b73f92e-c016-4545-e9ff-fd649d106728"
      },
      "outputs": [
        {
          "data": {
            "text/plain": [
              "count        50000\n",
              "unique           2\n",
              "top       positive\n",
              "freq         25000\n",
              "Name: sentiment, dtype: object"
            ]
          },
          "execution_count": 25,
          "metadata": {},
          "output_type": "execute_result"
        }
      ],
      "source": [
        "df[\"sentiment\"].describe()"
      ]
    },
    {
      "cell_type": "code",
      "execution_count": null,
      "metadata": {
        "id": "VKi30bxdH9CV"
      },
      "outputs": [],
      "source": [
        "for review in range(len(df[\"review\"])):\n",
        "    df[\"review\"][review]=re.sub(r'<[^<>]+>', repl=\" \",string=df[\"review\"][review]) #remove html tags\n",
        "    df[\"review\"][review]=re.sub(r'[^a-zA-Z0-9\\s]', repl=\" \",string=df[\"review\"][review]) #remove special characters/whitespaces"
      ]
    },
    {
      "cell_type": "code",
      "execution_count": null,
      "metadata": {
        "id": "lU8wXvahIAOk"
      },
      "outputs": [],
      "source": [
        "tokenizer = Tokenizer(num_words=5000)  # unique words limit set to 5000"
      ]
    },
    {
      "cell_type": "code",
      "execution_count": null,
      "metadata": {
        "colab": {
          "base_uri": "https://localhost:8080/"
        },
        "id": "R1zqMEMzIUl2",
        "outputId": "e893558f-c9d6-46a2-916f-685ec5343497"
      },
      "outputs": [
        {
          "data": {
            "text/plain": [
              "<keras_preprocessing.text.Tokenizer at 0x7f26b2e7cb90>"
            ]
          },
          "execution_count": 28,
          "metadata": {},
          "output_type": "execute_result"
        }
      ],
      "source": [
        "tokenizer"
      ]
    },
    {
      "cell_type": "code",
      "execution_count": null,
      "metadata": {
        "id": "-fxohDjnIWfW"
      },
      "outputs": [],
      "source": [
        "tokenizer.fit_on_texts(df['review'])"
      ]
    },
    {
      "cell_type": "code",
      "execution_count": null,
      "metadata": {
        "id": "UxI0iuulIZLx"
      },
      "outputs": [],
      "source": [
        "X = tokenizer.texts_to_sequences(df['review'])"
      ]
    },
    {
      "cell_type": "code",
      "execution_count": null,
      "metadata": {
        "colab": {
          "base_uri": "https://localhost:8080/"
        },
        "id": "72izkQB9Ictv",
        "outputId": "08e0200f-b97a-4ab7-cd44-8454bd0f3d87"
      },
      "outputs": [
        {
          "data": {
            "text/plain": [
              "[28,\n",
              " 4,\n",
              " 1,\n",
              " 77,\n",
              " 2061,\n",
              " 46,\n",
              " 1063,\n",
              " 11,\n",
              " 100,\n",
              " 149,\n",
              " 41,\n",
              " 303,\n",
              " 3090,\n",
              " 398,\n",
              " 20,\n",
              " 231,\n",
              " 29,\n",
              " 3212,\n",
              " 32,\n",
              " 25,\n",
              " 204,\n",
              " 14,\n",
              " 10,\n",
              " 6,\n",
              " 619,\n",
              " 47,\n",
              " 598,\n",
              " 17,\n",
              " 68,\n",
              " 1,\n",
              " 87,\n",
              " 148,\n",
              " 11,\n",
              " 3258,\n",
              " 68,\n",
              " 44,\n",
              " 3090,\n",
              " 13,\n",
              " 91,\n",
              " 2,\n",
              " 135,\n",
              " 4,\n",
              " 565,\n",
              " 61,\n",
              " 267,\n",
              " 8,\n",
              " 204,\n",
              " 37,\n",
              " 1,\n",
              " 653,\n",
              " 141,\n",
              " 1743,\n",
              " 68,\n",
              " 10,\n",
              " 6,\n",
              " 23,\n",
              " 3,\n",
              " 116,\n",
              " 16,\n",
              " 1,\n",
              " 2336,\n",
              " 40,\n",
              " 10,\n",
              " 116,\n",
              " 2597,\n",
              " 56,\n",
              " 17,\n",
              " 5,\n",
              " 1471,\n",
              " 375,\n",
              " 40,\n",
              " 565,\n",
              " 91,\n",
              " 6,\n",
              " 3831,\n",
              " 8,\n",
              " 1,\n",
              " 358,\n",
              " 360,\n",
              " 4,\n",
              " 1,\n",
              " 653,\n",
              " 7,\n",
              " 6,\n",
              " 436,\n",
              " 3090,\n",
              " 14,\n",
              " 11,\n",
              " 6,\n",
              " 1,\n",
              " 361,\n",
              " 5,\n",
              " 1,\n",
              " 2542,\n",
              " 1044,\n",
              " 7,\n",
              " 2712,\n",
              " 1411,\n",
              " 22,\n",
              " 524,\n",
              " 34,\n",
              " 4681,\n",
              " 2462,\n",
              " 4,\n",
              " 1,\n",
              " 1196,\n",
              " 115,\n",
              " 30,\n",
              " 1,\n",
              " 27,\n",
              " 2912,\n",
              " 2,\n",
              " 389,\n",
              " 36,\n",
              " 6,\n",
              " 23,\n",
              " 299,\n",
              " 22,\n",
              " 1,\n",
              " 4902,\n",
              " 2923,\n",
              " 524,\n",
              " 6,\n",
              " 345,\n",
              " 5,\n",
              " 107,\n",
              " 2450,\n",
              " 2,\n",
              " 52,\n",
              " 36,\n",
              " 327,\n",
              " 2,\n",
              " 25,\n",
              " 112,\n",
              " 224,\n",
              " 242,\n",
              " 9,\n",
              " 60,\n",
              " 132,\n",
              " 1,\n",
              " 282,\n",
              " 1333,\n",
              " 4,\n",
              " 1,\n",
              " 116,\n",
              " 6,\n",
              " 685,\n",
              " 5,\n",
              " 1,\n",
              " 193,\n",
              " 11,\n",
              " 7,\n",
              " 268,\n",
              " 115,\n",
              " 77,\n",
              " 276,\n",
              " 575,\n",
              " 21,\n",
              " 3016,\n",
              " 827,\n",
              " 183,\n",
              " 1305,\n",
              " 4177,\n",
              " 16,\n",
              " 2496,\n",
              " 1230,\n",
              " 827,\n",
              " 1436,\n",
              " 827,\n",
              " 874,\n",
              " 3090,\n",
              " 152,\n",
              " 21,\n",
              " 949,\n",
              " 185,\n",
              " 1,\n",
              " 87,\n",
              " 398,\n",
              " 9,\n",
              " 123,\n",
              " 211,\n",
              " 3258,\n",
              " 68,\n",
              " 14,\n",
              " 36,\n",
              " 1619,\n",
              " 7,\n",
              " 13,\n",
              " 2239,\n",
              " 9,\n",
              " 415,\n",
              " 21,\n",
              " 132,\n",
              " 9,\n",
              " 13,\n",
              " 1583,\n",
              " 16,\n",
              " 7,\n",
              " 18,\n",
              " 14,\n",
              " 9,\n",
              " 292,\n",
              " 52,\n",
              " 9,\n",
              " 1417,\n",
              " 3,\n",
              " 1269,\n",
              " 16,\n",
              " 3090,\n",
              " 2,\n",
              " 191,\n",
              " 5,\n",
              " 1,\n",
              " 299,\n",
              " 2040,\n",
              " 4,\n",
              " 2140,\n",
              " 565,\n",
              " 23,\n",
              " 41,\n",
              " 565,\n",
              " 18,\n",
              " 35,\n",
              " 231,\n",
              " 29,\n",
              " 2986,\n",
              " 43,\n",
              " 16,\n",
              " 3,\n",
              " 35,\n",
              " 231,\n",
              " 501,\n",
              " 22,\n",
              " 633,\n",
              " 2,\n",
              " 75,\n",
              " 242,\n",
              " 17,\n",
              " 7,\n",
              " 70,\n",
              " 645,\n",
              " 701,\n",
              " 109,\n",
              " 654,\n",
              " 83,\n",
              " 1196,\n",
              " 685,\n",
              " 5,\n",
              " 66,\n",
              " 570,\n",
              " 4,\n",
              " 900,\n",
              " 2022,\n",
              " 40,\n",
              " 1196,\n",
              " 555,\n",
              " 149,\n",
              " 3090,\n",
              " 20,\n",
              " 198,\n",
              " 429,\n",
              " 3850,\n",
              " 17,\n",
              " 47,\n",
              " 6,\n",
              " 3327,\n",
              " 804,\n",
              " 1596,\n",
              " 45,\n",
              " 20,\n",
              " 50,\n",
              " 75,\n",
              " 8,\n",
              " 1213,\n",
              " 17,\n",
              " 126,\n",
              " 4112,\n",
              " 485]"
            ]
          },
          "execution_count": 31,
          "metadata": {},
          "output_type": "execute_result"
        }
      ],
      "source": [
        "X[0]"
      ]
    },
    {
      "cell_type": "code",
      "execution_count": null,
      "metadata": {
        "colab": {
          "base_uri": "https://localhost:8080/"
        },
        "id": "rbQYdMCuIf_5",
        "outputId": "56f7fe1c-e188-4aa4-ad20-4a2c1506e42c"
      },
      "outputs": [
        {
          "data": {
            "text/plain": [
              "278"
            ]
          },
          "execution_count": 32,
          "metadata": {},
          "output_type": "execute_result"
        }
      ],
      "source": [
        "len(X[0])"
      ]
    },
    {
      "cell_type": "code",
      "execution_count": null,
      "metadata": {
        "id": "avfnOXtiIjoS"
      },
      "outputs": [],
      "source": [
        "# padding so that all reviews will be of length 500\n",
        "X = pad_sequences(X,maxlen=500)"
      ]
    },
    {
      "cell_type": "code",
      "execution_count": null,
      "metadata": {
        "colab": {
          "base_uri": "https://localhost:8080/"
        },
        "id": "zUJYyc_8ImSg",
        "outputId": "eeba7c96-71e1-4ad4-f04a-5cf3a793846a"
      },
      "outputs": [
        {
          "data": {
            "text/plain": [
              "array([   0,    0,    0,    0,    0,    0,    0,    0,    0,    0,    0,\n",
              "          0,    0,    0,    0,    0,    0,    0,    0,    0,    0,    0,\n",
              "          0,    0,    0,    0,    0,    0,    0,    0,    0,    0,    0,\n",
              "          0,    0,    0,    0,    0,    0,    0,    0,    0,    0,    0,\n",
              "          0,    0,    0,    0,    0,    0,    0,    0,    0,    0,    0,\n",
              "          0,    0,    0,    0,    0,    0,    0,    0,    0,    0,    0,\n",
              "          0,    0,    0,    0,    0,    0,    0,    0,    0,    0,    0,\n",
              "          0,    0,    0,    0,    0,    0,    0,    0,    0,    0,    0,\n",
              "          0,    0,    0,    0,    0,    0,    0,    0,    0,    0,    0,\n",
              "          0,    0,    0,    0,    0,    0,    0,    0,    0,    0,    0,\n",
              "          0,    0,    0,    0,    0,    0,    0,    0,    0,    0,    0,\n",
              "          0,    0,    0,    0,    0,    0,    0,    0,    0,    0,    0,\n",
              "          0,    0,    0,    0,    0,    0,    0,    0,    0,    0,    0,\n",
              "          0,    0,    0,    0,    0,    0,    0,    0,    0,    0,    0,\n",
              "          0,    0,    0,    0,    0,    0,    0,    0,    0,    0,    0,\n",
              "          0,    0,    0,    0,    0,    0,    0,    0,    0,    0,    0,\n",
              "          0,    0,    0,    0,    0,    0,    0,    0,    0,    0,    0,\n",
              "          0,    0,    0,    0,    0,    0,    0,    0,    0,    0,    0,\n",
              "          0,    0,    0,    0,    0,    0,    0,    0,    0,    0,    0,\n",
              "          0,    0,    0,    0,    0,    0,    0,    0,    0,    0,    0,\n",
              "          0,    0,   28,    4,    1,   77, 2061,   46, 1063,   11,  100,\n",
              "        149,   41,  303, 3090,  398,   20,  231,   29, 3212,   32,   25,\n",
              "        204,   14,   10,    6,  619,   47,  598,   17,   68,    1,   87,\n",
              "        148,   11, 3258,   68,   44, 3090,   13,   91,    2,  135,    4,\n",
              "        565,   61,  267,    8,  204,   37,    1,  653,  141, 1743,   68,\n",
              "         10,    6,   23,    3,  116,   16,    1, 2336,   40,   10,  116,\n",
              "       2597,   56,   17,    5, 1471,  375,   40,  565,   91,    6, 3831,\n",
              "          8,    1,  358,  360,    4,    1,  653,    7,    6,  436, 3090,\n",
              "         14,   11,    6,    1,  361,    5,    1, 2542, 1044,    7, 2712,\n",
              "       1411,   22,  524,   34, 4681, 2462,    4,    1, 1196,  115,   30,\n",
              "          1,   27, 2912,    2,  389,   36,    6,   23,  299,   22,    1,\n",
              "       4902, 2923,  524,    6,  345,    5,  107, 2450,    2,   52,   36,\n",
              "        327,    2,   25,  112,  224,  242,    9,   60,  132,    1,  282,\n",
              "       1333,    4,    1,  116,    6,  685,    5,    1,  193,   11,    7,\n",
              "        268,  115,   77,  276,  575,   21, 3016,  827,  183, 1305, 4177,\n",
              "         16, 2496, 1230,  827, 1436,  827,  874, 3090,  152,   21,  949,\n",
              "        185,    1,   87,  398,    9,  123,  211, 3258,   68,   14,   36,\n",
              "       1619,    7,   13, 2239,    9,  415,   21,  132,    9,   13, 1583,\n",
              "         16,    7,   18,   14,    9,  292,   52,    9, 1417,    3, 1269,\n",
              "         16, 3090,    2,  191,    5,    1,  299, 2040,    4, 2140,  565,\n",
              "         23,   41,  565,   18,   35,  231,   29, 2986,   43,   16,    3,\n",
              "         35,  231,  501,   22,  633,    2,   75,  242,   17,    7,   70,\n",
              "        645,  701,  109,  654,   83, 1196,  685,    5,   66,  570,    4,\n",
              "        900, 2022,   40, 1196,  555,  149, 3090,   20,  198,  429, 3850,\n",
              "         17,   47,    6, 3327,  804, 1596,   45,   20,   50,   75,    8,\n",
              "       1213,   17,  126, 4112,  485], dtype=int32)"
            ]
          },
          "execution_count": 34,
          "metadata": {},
          "output_type": "execute_result"
        }
      ],
      "source": [
        "X[0]"
      ]
    },
    {
      "cell_type": "code",
      "execution_count": null,
      "metadata": {
        "colab": {
          "base_uri": "https://localhost:8080/"
        },
        "id": "TGyMFRyOIpmV",
        "outputId": "f66f883e-03a6-46b2-a0da-957f0993521a"
      },
      "outputs": [
        {
          "data": {
            "text/plain": [
              "500"
            ]
          },
          "execution_count": 35,
          "metadata": {},
          "output_type": "execute_result"
        }
      ],
      "source": [
        "len(X[0])"
      ]
    },
    {
      "cell_type": "code",
      "execution_count": null,
      "metadata": {
        "id": "QT_84sjXIr8M"
      },
      "outputs": [],
      "source": [
        "Y = df['sentiment']"
      ]
    },
    {
      "cell_type": "code",
      "execution_count": null,
      "metadata": {
        "id": "aQtAQpW7IvFz"
      },
      "outputs": [],
      "source": [
        "X_train, X_test, Y_train, Y_test = train_test_split(X, Y, test_size=0.2)"
      ]
    },
    {
      "cell_type": "code",
      "execution_count": null,
      "metadata": {
        "colab": {
          "base_uri": "https://localhost:8080/"
        },
        "id": "rO59UJA3IyPF",
        "outputId": "0efa5e23-fb7b-449f-9196-ce9b43340323"
      },
      "outputs": [
        {
          "data": {
            "text/plain": [
              "(40000, 500)"
            ]
          },
          "execution_count": 38,
          "metadata": {},
          "output_type": "execute_result"
        }
      ],
      "source": [
        "X_train.shape"
      ]
    },
    {
      "cell_type": "code",
      "execution_count": null,
      "metadata": {
        "id": "9DlqDgfaI0E4"
      },
      "outputs": [],
      "source": [
        "pickle_out=open('tokenizer.pickle',\"wb\")\n",
        "pickle.dump(tokenizer,pickle_out)\n",
        "pickle_out.close()"
      ]
    },
    {
      "cell_type": "code",
      "execution_count": null,
      "metadata": {
        "id": "UftJIfI_I8o3"
      },
      "outputs": [],
      "source": [
        "y_train=pd.get_dummies(Y_train)\n",
        "y_test=pd.get_dummies(Y_test)"
      ]
    },
    {
      "cell_type": "code",
      "execution_count": null,
      "metadata": {
        "colab": {
          "base_uri": "https://localhost:8080/",
          "height": 424
        },
        "id": "b1yyZlloJCst",
        "outputId": "758aeb6c-ac16-4f79-bdd1-d52d80798541"
      },
      "outputs": [
        {
          "data": {
            "text/html": [
              "\n",
              "  <div id=\"df-26c0baf6-688c-41c7-9b48-20907cf5bdcf\">\n",
              "    <div class=\"colab-df-container\">\n",
              "      <div>\n",
              "<style scoped>\n",
              "    .dataframe tbody tr th:only-of-type {\n",
              "        vertical-align: middle;\n",
              "    }\n",
              "\n",
              "    .dataframe tbody tr th {\n",
              "        vertical-align: top;\n",
              "    }\n",
              "\n",
              "    .dataframe thead th {\n",
              "        text-align: right;\n",
              "    }\n",
              "</style>\n",
              "<table border=\"1\" class=\"dataframe\">\n",
              "  <thead>\n",
              "    <tr style=\"text-align: right;\">\n",
              "      <th></th>\n",
              "      <th>negative</th>\n",
              "      <th>positive</th>\n",
              "    </tr>\n",
              "  </thead>\n",
              "  <tbody>\n",
              "    <tr>\n",
              "      <th>3240</th>\n",
              "      <td>1</td>\n",
              "      <td>0</td>\n",
              "    </tr>\n",
              "    <tr>\n",
              "      <th>19812</th>\n",
              "      <td>1</td>\n",
              "      <td>0</td>\n",
              "    </tr>\n",
              "    <tr>\n",
              "      <th>29647</th>\n",
              "      <td>0</td>\n",
              "      <td>1</td>\n",
              "    </tr>\n",
              "    <tr>\n",
              "      <th>16826</th>\n",
              "      <td>0</td>\n",
              "      <td>1</td>\n",
              "    </tr>\n",
              "    <tr>\n",
              "      <th>1118</th>\n",
              "      <td>0</td>\n",
              "      <td>1</td>\n",
              "    </tr>\n",
              "    <tr>\n",
              "      <th>...</th>\n",
              "      <td>...</td>\n",
              "      <td>...</td>\n",
              "    </tr>\n",
              "    <tr>\n",
              "      <th>46769</th>\n",
              "      <td>0</td>\n",
              "      <td>1</td>\n",
              "    </tr>\n",
              "    <tr>\n",
              "      <th>37488</th>\n",
              "      <td>1</td>\n",
              "      <td>0</td>\n",
              "    </tr>\n",
              "    <tr>\n",
              "      <th>16557</th>\n",
              "      <td>1</td>\n",
              "      <td>0</td>\n",
              "    </tr>\n",
              "    <tr>\n",
              "      <th>1244</th>\n",
              "      <td>1</td>\n",
              "      <td>0</td>\n",
              "    </tr>\n",
              "    <tr>\n",
              "      <th>21373</th>\n",
              "      <td>0</td>\n",
              "      <td>1</td>\n",
              "    </tr>\n",
              "  </tbody>\n",
              "</table>\n",
              "<p>40000 rows × 2 columns</p>\n",
              "</div>\n",
              "      <button class=\"colab-df-convert\" onclick=\"convertToInteractive('df-26c0baf6-688c-41c7-9b48-20907cf5bdcf')\"\n",
              "              title=\"Convert this dataframe to an interactive table.\"\n",
              "              style=\"display:none;\">\n",
              "        \n",
              "  <svg xmlns=\"http://www.w3.org/2000/svg\" height=\"24px\"viewBox=\"0 0 24 24\"\n",
              "       width=\"24px\">\n",
              "    <path d=\"M0 0h24v24H0V0z\" fill=\"none\"/>\n",
              "    <path d=\"M18.56 5.44l.94 2.06.94-2.06 2.06-.94-2.06-.94-.94-2.06-.94 2.06-2.06.94zm-11 1L8.5 8.5l.94-2.06 2.06-.94-2.06-.94L8.5 2.5l-.94 2.06-2.06.94zm10 10l.94 2.06.94-2.06 2.06-.94-2.06-.94-.94-2.06-.94 2.06-2.06.94z\"/><path d=\"M17.41 7.96l-1.37-1.37c-.4-.4-.92-.59-1.43-.59-.52 0-1.04.2-1.43.59L10.3 9.45l-7.72 7.72c-.78.78-.78 2.05 0 2.83L4 21.41c.39.39.9.59 1.41.59.51 0 1.02-.2 1.41-.59l7.78-7.78 2.81-2.81c.8-.78.8-2.07 0-2.86zM5.41 20L4 18.59l7.72-7.72 1.47 1.35L5.41 20z\"/>\n",
              "  </svg>\n",
              "      </button>\n",
              "      \n",
              "  <style>\n",
              "    .colab-df-container {\n",
              "      display:flex;\n",
              "      flex-wrap:wrap;\n",
              "      gap: 12px;\n",
              "    }\n",
              "\n",
              "    .colab-df-convert {\n",
              "      background-color: #E8F0FE;\n",
              "      border: none;\n",
              "      border-radius: 50%;\n",
              "      cursor: pointer;\n",
              "      display: none;\n",
              "      fill: #1967D2;\n",
              "      height: 32px;\n",
              "      padding: 0 0 0 0;\n",
              "      width: 32px;\n",
              "    }\n",
              "\n",
              "    .colab-df-convert:hover {\n",
              "      background-color: #E2EBFA;\n",
              "      box-shadow: 0px 1px 2px rgba(60, 64, 67, 0.3), 0px 1px 3px 1px rgba(60, 64, 67, 0.15);\n",
              "      fill: #174EA6;\n",
              "    }\n",
              "\n",
              "    [theme=dark] .colab-df-convert {\n",
              "      background-color: #3B4455;\n",
              "      fill: #D2E3FC;\n",
              "    }\n",
              "\n",
              "    [theme=dark] .colab-df-convert:hover {\n",
              "      background-color: #434B5C;\n",
              "      box-shadow: 0px 1px 3px 1px rgba(0, 0, 0, 0.15);\n",
              "      filter: drop-shadow(0px 1px 2px rgba(0, 0, 0, 0.3));\n",
              "      fill: #FFFFFF;\n",
              "    }\n",
              "  </style>\n",
              "\n",
              "      <script>\n",
              "        const buttonEl =\n",
              "          document.querySelector('#df-26c0baf6-688c-41c7-9b48-20907cf5bdcf button.colab-df-convert');\n",
              "        buttonEl.style.display =\n",
              "          google.colab.kernel.accessAllowed ? 'block' : 'none';\n",
              "\n",
              "        async function convertToInteractive(key) {\n",
              "          const element = document.querySelector('#df-26c0baf6-688c-41c7-9b48-20907cf5bdcf');\n",
              "          const dataTable =\n",
              "            await google.colab.kernel.invokeFunction('convertToInteractive',\n",
              "                                                     [key], {});\n",
              "          if (!dataTable) return;\n",
              "\n",
              "          const docLinkHtml = 'Like what you see? Visit the ' +\n",
              "            '<a target=\"_blank\" href=https://colab.research.google.com/notebooks/data_table.ipynb>data table notebook</a>'\n",
              "            + ' to learn more about interactive tables.';\n",
              "          element.innerHTML = '';\n",
              "          dataTable['output_type'] = 'display_data';\n",
              "          await google.colab.output.renderOutput(dataTable, element);\n",
              "          const docLink = document.createElement('div');\n",
              "          docLink.innerHTML = docLinkHtml;\n",
              "          element.appendChild(docLink);\n",
              "        }\n",
              "      </script>\n",
              "    </div>\n",
              "  </div>\n",
              "  "
            ],
            "text/plain": [
              "       negative  positive\n",
              "3240          1         0\n",
              "19812         1         0\n",
              "29647         0         1\n",
              "16826         0         1\n",
              "1118          0         1\n",
              "...         ...       ...\n",
              "46769         0         1\n",
              "37488         1         0\n",
              "16557         1         0\n",
              "1244          1         0\n",
              "21373         0         1\n",
              "\n",
              "[40000 rows x 2 columns]"
            ]
          },
          "execution_count": 41,
          "metadata": {},
          "output_type": "execute_result"
        }
      ],
      "source": [
        "y_train"
      ]
    },
    {
      "cell_type": "code",
      "execution_count": null,
      "metadata": {
        "id": "NIJvO9N9JEj0"
      },
      "outputs": [],
      "source": [
        "vocab_size = len(tokenizer.word_index) + 1 # +1 is necessary for embedding method"
      ]
    },
    {
      "cell_type": "code",
      "execution_count": null,
      "metadata": {
        "colab": {
          "base_uri": "https://localhost:8080/"
        },
        "id": "39oUJ7mNJJ2t",
        "outputId": "f008da20-c6cd-41af-9873-7fdec657fc89"
      },
      "outputs": [
        {
          "data": {
            "text/plain": [
              "102211"
            ]
          },
          "execution_count": 43,
          "metadata": {},
          "output_type": "execute_result"
        }
      ],
      "source": [
        "vocab_size"
      ]
    },
    {
      "cell_type": "code",
      "execution_count": null,
      "metadata": {
        "colab": {
          "base_uri": "https://localhost:8080/"
        },
        "id": "_Rv5vDy6JLZs",
        "outputId": "994eb055-7e80-4877-dae2-2d324007a5a0"
      },
      "outputs": [
        {
          "name": "stdout",
          "output_type": "stream",
          "text": [
            "Model: \"sequential_1\"\n",
            "_________________________________________________________________\n",
            " Layer (type)                Output Shape              Param #   \n",
            "=================================================================\n",
            " embedding_1 (Embedding)     (None, 500, 50)           5110550   \n",
            "                                                                 \n",
            " bidirectional (Bidirectiona  (None, 256)              183296    \n",
            " l)                                                              \n",
            "                                                                 \n",
            " dropout_1 (Dropout)         (None, 256)               0         \n",
            "                                                                 \n",
            " dense_1 (Dense)             (None, 2)                 514       \n",
            "                                                                 \n",
            "=================================================================\n",
            "Total params: 5,294,360\n",
            "Trainable params: 5,294,360\n",
            "Non-trainable params: 0\n",
            "_________________________________________________________________\n"
          ]
        }
      ],
      "source": [
        "model = Sequential()\n",
        "model.add(Embedding(vocab_size, 50, input_length=500))\n",
        "model.add(Bidirectional(LSTM(128)))\n",
        "model.add(Dropout(0.5))\n",
        "model.add(Dense(2,activation='sigmoid'))\n",
        "model.compile(optimizer='adam',loss='binary_crossentropy', metrics=['accuracy'])\n",
        "model.summary() "
      ]
    },
    {
      "cell_type": "code",
      "execution_count": null,
      "metadata": {
        "colab": {
          "base_uri": "https://localhost:8080/"
        },
        "id": "p840lC1bJNkO",
        "outputId": "357470f5-34c9-4165-9e1b-db4b437a06b6"
      },
      "outputs": [
        {
          "name": "stdout",
          "output_type": "stream",
          "text": [
            "Epoch 1/5\n",
            "313/313 [==============================] - 1134s 4s/step - loss: 0.4702 - accuracy: 0.7861 - val_loss: 0.3505 - val_accuracy: 0.8531\n",
            "Epoch 2/5\n",
            "313/313 [==============================] - 1104s 4s/step - loss: 0.2771 - accuracy: 0.8897 - val_loss: 0.3247 - val_accuracy: 0.8729\n",
            "Epoch 3/5\n",
            "313/313 [==============================] - 1099s 4s/step - loss: 0.2597 - accuracy: 0.8969 - val_loss: 0.2834 - val_accuracy: 0.8814\n",
            "Epoch 4/5\n",
            "313/313 [==============================] - 1099s 4s/step - loss: 0.2238 - accuracy: 0.9150 - val_loss: 0.2892 - val_accuracy: 0.8867\n",
            "Epoch 5/5\n",
            "313/313 [==============================] - 1131s 4s/step - loss: 0.2095 - accuracy: 0.9194 - val_loss: 0.2792 - val_accuracy: 0.8882\n"
          ]
        }
      ],
      "source": [
        "from keras.callbacks import EarlyStopping\n",
        "earlyStopping = EarlyStopping(monitor='val_loss', mode='min', verbose=1, patience=5)\n",
        "\n",
        "modelTraining=model.fit(X_train, y_train,\n",
        "                        batch_size=128,\n",
        "                        epochs=5,\n",
        "                        validation_data=[X_test, y_test],\n",
        "                        callbacks=[earlyStopping])"
      ]
    },
    {
      "cell_type": "code",
      "execution_count": null,
      "metadata": {
        "colab": {
          "base_uri": "https://localhost:8080/"
        },
        "id": "txwRvPdeJR3W",
        "outputId": "eee48461-b938-4e36-962f-d858907e3f45"
      },
      "outputs": [
        {
          "name": "stdout",
          "output_type": "stream",
          "text": [
            "Test_score =  0.2791900038719177\n",
            "Test_accuracy =  0.8881999850273132\n"
          ]
        }
      ],
      "source": [
        "\n",
        "score=model.evaluate(X_test, y_test, verbose=0)\n",
        "\n",
        "print(\"Test_score = \",score[0])\n",
        "print(\"Test_accuracy = \",score[1])"
      ]
    },
    {
      "cell_type": "code",
      "execution_count": null,
      "metadata": {
        "id": "6VMIgn29fUmB"
      },
      "outputs": [],
      "source": [
        "model.save('SentimentalAnalysis_LSTM.h5')"
      ]
    },
    {
      "cell_type": "code",
      "execution_count": null,
      "metadata": {
        "id": "9vODJb6if64-"
      },
      "outputs": [],
      "source": [
        "testModel=load_model('SentimentalAnalysis_LSTM.h5')"
      ]
    },
    {
      "cell_type": "code",
      "execution_count": null,
      "metadata": {
        "id": "910P-FLbf-Ta"
      },
      "outputs": [],
      "source": [
        "myInput=\"\"\"I watched this movie on a flight and absolutely loved it, I ended up watching on Starz about 5 times... it's funny, cute, silly, emotional and I want What a Hottie Hottie as a ring tone or better yet a full song! I love the animation part of the movie as well, the whole story reads like a fairytale.\"\"\""
      ]
    },
    {
      "cell_type": "code",
      "execution_count": null,
      "metadata": {
        "id": "LHbRCAxegGdM"
      },
      "outputs": [],
      "source": [
        "myInput=re.sub(r'<[^<>]+>', repl=\" \",string=myInput) #Excluding html tags\n",
        "myInput=re.sub(r'[^a-zA-Z0-9\\s]', repl=\" \",string=myInput)"
      ]
    },
    {
      "cell_type": "code",
      "execution_count": null,
      "metadata": {
        "colab": {
          "base_uri": "https://localhost:8080/",
          "height": 53
        },
        "id": "ekXLJE4dgIZ9",
        "outputId": "74572407-ca5a-4bc5-98ed-062c85fb0906"
      },
      "outputs": [
        {
          "data": {
            "application/vnd.google.colaboratory.intrinsic+json": {
              "type": "string"
            },
            "text/plain": [
              "'I watched this movie on a flight and absolutely loved it  I ended up watching on Starz about 5 times    it s funny  cute  silly  emotional and I want What a Hottie Hottie as a ring tone or better yet a full song  I love the animation part of the movie as well  the whole story reads like a fairytale '"
            ]
          },
          "execution_count": 53,
          "metadata": {},
          "output_type": "execute_result"
        }
      ],
      "source": [
        "myInput"
      ]
    },
    {
      "cell_type": "code",
      "execution_count": null,
      "metadata": {
        "colab": {
          "base_uri": "https://localhost:8080/"
        },
        "id": "7OfQkK5fgKkI",
        "outputId": "1a30afef-1f2d-4968-dbd6-4e813957ea0b"
      },
      "outputs": [
        {
          "data": {
            "text/plain": [
              "array([[0.2711997 , 0.73140794]], dtype=float32)"
            ]
          },
          "execution_count": 54,
          "metadata": {},
          "output_type": "execute_result"
        }
      ],
      "source": [
        "prediction=tokenizer.texts_to_sequences([myInput])\n",
        "prediction=pad_sequences(prediction,maxlen=500)\n",
        "model.predict(prediction)"
      ]
    },
    {
      "cell_type": "code",
      "execution_count": null,
      "metadata": {
        "colab": {
          "base_uri": "https://localhost:8080/"
        },
        "id": "dXvpn6JwgMnM",
        "outputId": "3adc3f30-ddaa-4957-a3af-2aef4ad21b72"
      },
      "outputs": [
        {
          "data": {
            "text/plain": [
              "0.73140794"
            ]
          },
          "execution_count": 55,
          "metadata": {},
          "output_type": "execute_result"
        }
      ],
      "source": [
        "model.predict(prediction)[0][1]"
      ]
    },
    {
      "cell_type": "code",
      "execution_count": null,
      "metadata": {
        "id": "b8yrjSjVgP1_"
      },
      "outputs": [],
      "source": []
    }
  ],
  "metadata": {
    "colab": {
      "name": "LSTM",
      "provenance": []
    },
    "kernelspec": {
      "display_name": "Python 3.7.6 64-bit",
      "language": "python",
      "name": "python3"
    },
    "language_info": {
      "name": "python",
      "version": "3.7.6"
    },
    "vscode": {
      "interpreter": {
        "hash": "356734b0b4e05b3af569ed06eb258f6ef66038e7268c6bdbb97ecd1a1c609e88"
      }
    }
  },
  "nbformat": 4,
  "nbformat_minor": 0
}
